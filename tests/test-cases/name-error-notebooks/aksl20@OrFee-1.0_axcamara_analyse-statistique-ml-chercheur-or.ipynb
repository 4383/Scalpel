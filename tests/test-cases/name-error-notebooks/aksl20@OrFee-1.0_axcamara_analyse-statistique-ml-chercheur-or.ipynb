{
 "cells": [
  {
   "cell_type": "code",
   "execution_count": 1,
   "metadata": {},
   "outputs": [],
   "source": [
    "import pandas as pd\n",
    "import numpy as np\n",
    "import matplotlib.pyplot as plt\n",
    "import seaborn as sns\n",
    "from pprint import pprint\n",
    "\n",
    "sns.set()\n",
    "%matplotlib inline"
   ]
  },
  {
   "cell_type": "code",
   "execution_count": 3,
   "metadata": {},
   "outputs": [
    {
     "data": {
      "text/html": [
       "<script>\n",
       "code_show=true; \n",
       "function code_toggle() {\n",
       "if (code_show){\n",
       "$('div.input').hide();\n",
       "} else {\n",
       "$('div.input').show();\n",
       "}\n",
       "code_show = !code_show\n",
       "} \n",
       "$( document ).ready(code_toggle);\n",
       "</script>\n",
       "<a href=\"javascript:code_toggle()\">Click here to hide/print cells code</a>."
      ],
      "text/plain": [
       "<IPython.core.display.HTML object>"
      ]
     },
     "execution_count": 3,
     "metadata": {},
     "output_type": "execute_result"
    }
   ],
   "source": [
    "from IPython.display import HTML\n",
    "\n",
    "HTML('''<script>\n",
    "code_show=true; \n",
    "function code_toggle() {\n",
    "if (code_show){\n",
    "$('div.input').hide();\n",
    "} else {\n",
    "$('div.input').show();\n",
    "}\n",
    "code_show = !code_show\n",
    "} \n",
    "$( document ).ready(code_toggle);\n",
    "</script>\n",
    "<a href=\"javascript:code_toggle()\">Click here to hide/print cells code</a>.''')\n"
   ]
  },
  {
   "cell_type": "markdown",
   "metadata": {},
   "source": [
    "## Introduction"
   ]
  },
  {
   "cell_type": "markdown",
   "metadata": {},
   "source": [
    "Ce jeu de donnée contient des candidatures pour le poste de chercheur d'or chez OrFée. \n",
    "\n",
    "Dans une première partie, nous concentrerons notre analyse sur l'étude des différentes variables présentes dans le jeu de donnée, leur distribution et leur dépendance. Ensuite, nous choisirons un modèle prédictif afin de prédire si un candidat donné sera embauché ou non en fonction de ses attributs."
   ]
  },
  {
   "cell_type": "markdown",
   "metadata": {},
   "source": [
    "## Chargement des données"
   ]
  },
  {
   "cell_type": "code",
   "execution_count": 2,
   "metadata": {},
   "outputs": [],
   "source": [
    "candidates = pd.read_csv('data/data_v1.0.csv').drop(['Unnamed: 0', 'index'], axis=1)"
   ]
  },
  {
   "cell_type": "code",
   "execution_count": 3,
   "metadata": {},
   "outputs": [
    {
     "data": {
      "text/html": [
       "<div>\n",
       "<style scoped>\n",
       "    .dataframe tbody tr th:only-of-type {\n",
       "        vertical-align: middle;\n",
       "    }\n",
       "\n",
       "    .dataframe tbody tr th {\n",
       "        vertical-align: top;\n",
       "    }\n",
       "\n",
       "    .dataframe thead th {\n",
       "        text-align: right;\n",
       "    }\n",
       "</style>\n",
       "<table border=\"1\" class=\"dataframe\">\n",
       "  <thead>\n",
       "    <tr style=\"text-align: right;\">\n",
       "      <th></th>\n",
       "      <th>date</th>\n",
       "      <th>cheveux</th>\n",
       "      <th>age</th>\n",
       "      <th>exp</th>\n",
       "      <th>salaire</th>\n",
       "      <th>sexe</th>\n",
       "      <th>diplome</th>\n",
       "      <th>specialite</th>\n",
       "      <th>note</th>\n",
       "      <th>dispo</th>\n",
       "      <th>embauche</th>\n",
       "    </tr>\n",
       "  </thead>\n",
       "  <tbody>\n",
       "    <tr>\n",
       "      <th>0</th>\n",
       "      <td>2012-06-02</td>\n",
       "      <td>roux</td>\n",
       "      <td>25.0</td>\n",
       "      <td>9.0</td>\n",
       "      <td>26803.0</td>\n",
       "      <td>F</td>\n",
       "      <td>licence</td>\n",
       "      <td>geologie</td>\n",
       "      <td>97.08</td>\n",
       "      <td>non</td>\n",
       "      <td>0</td>\n",
       "    </tr>\n",
       "    <tr>\n",
       "      <th>1</th>\n",
       "      <td>2011-04-21</td>\n",
       "      <td>blond</td>\n",
       "      <td>35.0</td>\n",
       "      <td>13.0</td>\n",
       "      <td>38166.0</td>\n",
       "      <td>M</td>\n",
       "      <td>licence</td>\n",
       "      <td>forage</td>\n",
       "      <td>63.86</td>\n",
       "      <td>non</td>\n",
       "      <td>0</td>\n",
       "    </tr>\n",
       "    <tr>\n",
       "      <th>2</th>\n",
       "      <td>2012-09-07</td>\n",
       "      <td>blond</td>\n",
       "      <td>29.0</td>\n",
       "      <td>13.0</td>\n",
       "      <td>35207.0</td>\n",
       "      <td>M</td>\n",
       "      <td>licence</td>\n",
       "      <td>geologie</td>\n",
       "      <td>78.50</td>\n",
       "      <td>non</td>\n",
       "      <td>0</td>\n",
       "    </tr>\n",
       "    <tr>\n",
       "      <th>3</th>\n",
       "      <td>2011-07-01</td>\n",
       "      <td>brun</td>\n",
       "      <td>NaN</td>\n",
       "      <td>12.0</td>\n",
       "      <td>32442.0</td>\n",
       "      <td>M</td>\n",
       "      <td>licence</td>\n",
       "      <td>geologie</td>\n",
       "      <td>45.09</td>\n",
       "      <td>non</td>\n",
       "      <td>0</td>\n",
       "    </tr>\n",
       "    <tr>\n",
       "      <th>4</th>\n",
       "      <td>2012-08-07</td>\n",
       "      <td>roux</td>\n",
       "      <td>35.0</td>\n",
       "      <td>6.0</td>\n",
       "      <td>28533.0</td>\n",
       "      <td>F</td>\n",
       "      <td>licence</td>\n",
       "      <td>detective</td>\n",
       "      <td>81.91</td>\n",
       "      <td>non</td>\n",
       "      <td>0</td>\n",
       "    </tr>\n",
       "  </tbody>\n",
       "</table>\n",
       "</div>"
      ],
      "text/plain": [
       "         date cheveux   age   exp  salaire sexe  diplome specialite   note  \\\n",
       "0  2012-06-02    roux  25.0   9.0  26803.0    F  licence   geologie  97.08   \n",
       "1  2011-04-21   blond  35.0  13.0  38166.0    M  licence     forage  63.86   \n",
       "2  2012-09-07   blond  29.0  13.0  35207.0    M  licence   geologie  78.50   \n",
       "3  2011-07-01    brun   NaN  12.0  32442.0    M  licence   geologie  45.09   \n",
       "4  2012-08-07    roux  35.0   6.0  28533.0    F  licence  detective  81.91   \n",
       "\n",
       "  dispo  embauche  \n",
       "0   non         0  \n",
       "1   non         0  \n",
       "2   non         0  \n",
       "3   non         0  \n",
       "4   non         0  "
      ]
     },
     "execution_count": 3,
     "metadata": {},
     "output_type": "execute_result"
    }
   ],
   "source": [
    "candidates.head()"
   ]
  },
  {
   "cell_type": "code",
   "execution_count": 36,
   "metadata": {},
   "outputs": [
    {
     "name": "stdout",
     "output_type": "stream",
     "text": [
      "Nombre de lignes: 20000\n",
      "Nombre de colonnes: 11\n"
     ]
    }
   ],
   "source": [
    "print('Nombre de lignes: {}\\n'\n",
    "      'Nombre de colonnes: {}'.format(*candidates.shape))"
   ]
  },
  {
   "cell_type": "code",
   "execution_count": 16,
   "metadata": {},
   "outputs": [
    {
     "data": {
      "text/html": [
       "<div>\n",
       "<style scoped>\n",
       "    .dataframe tbody tr th:only-of-type {\n",
       "        vertical-align: middle;\n",
       "    }\n",
       "\n",
       "    .dataframe tbody tr th {\n",
       "        vertical-align: top;\n",
       "    }\n",
       "\n",
       "    .dataframe thead th {\n",
       "        text-align: right;\n",
       "    }\n",
       "</style>\n",
       "<table border=\"1\" class=\"dataframe\">\n",
       "  <thead>\n",
       "    <tr style=\"text-align: right;\">\n",
       "      <th></th>\n",
       "      <th>age</th>\n",
       "      <th>exp</th>\n",
       "      <th>salaire</th>\n",
       "      <th>note</th>\n",
       "      <th>embauche</th>\n",
       "    </tr>\n",
       "  </thead>\n",
       "  <tbody>\n",
       "    <tr>\n",
       "      <th>count</th>\n",
       "      <td>19909.000000</td>\n",
       "      <td>19904.000000</td>\n",
       "      <td>19905.000000</td>\n",
       "      <td>19886.000000</td>\n",
       "      <td>20000.000000</td>\n",
       "    </tr>\n",
       "    <tr>\n",
       "      <th>mean</th>\n",
       "      <td>35.004521</td>\n",
       "      <td>9.500352</td>\n",
       "      <td>34974.343934</td>\n",
       "      <td>75.168762</td>\n",
       "      <td>0.114600</td>\n",
       "    </tr>\n",
       "    <tr>\n",
       "      <th>std</th>\n",
       "      <td>9.609169</td>\n",
       "      <td>3.012109</td>\n",
       "      <td>5003.099616</td>\n",
       "      <td>17.095926</td>\n",
       "      <td>0.318547</td>\n",
       "    </tr>\n",
       "    <tr>\n",
       "      <th>min</th>\n",
       "      <td>-3.000000</td>\n",
       "      <td>-2.000000</td>\n",
       "      <td>14128.000000</td>\n",
       "      <td>8.680000</td>\n",
       "      <td>0.000000</td>\n",
       "    </tr>\n",
       "    <tr>\n",
       "      <th>25%</th>\n",
       "      <td>29.000000</td>\n",
       "      <td>7.000000</td>\n",
       "      <td>31596.000000</td>\n",
       "      <td>63.720000</td>\n",
       "      <td>0.000000</td>\n",
       "    </tr>\n",
       "    <tr>\n",
       "      <th>50%</th>\n",
       "      <td>35.000000</td>\n",
       "      <td>9.000000</td>\n",
       "      <td>34979.000000</td>\n",
       "      <td>75.080000</td>\n",
       "      <td>0.000000</td>\n",
       "    </tr>\n",
       "    <tr>\n",
       "      <th>75%</th>\n",
       "      <td>41.000000</td>\n",
       "      <td>12.000000</td>\n",
       "      <td>38358.000000</td>\n",
       "      <td>86.617500</td>\n",
       "      <td>0.000000</td>\n",
       "    </tr>\n",
       "    <tr>\n",
       "      <th>max</th>\n",
       "      <td>74.000000</td>\n",
       "      <td>23.000000</td>\n",
       "      <td>53977.000000</td>\n",
       "      <td>143.220000</td>\n",
       "      <td>1.000000</td>\n",
       "    </tr>\n",
       "  </tbody>\n",
       "</table>\n",
       "</div>"
      ],
      "text/plain": [
       "                age           exp       salaire          note      embauche\n",
       "count  19909.000000  19904.000000  19905.000000  19886.000000  20000.000000\n",
       "mean      35.004521      9.500352  34974.343934     75.168762      0.114600\n",
       "std        9.609169      3.012109   5003.099616     17.095926      0.318547\n",
       "min       -3.000000     -2.000000  14128.000000      8.680000      0.000000\n",
       "25%       29.000000      7.000000  31596.000000     63.720000      0.000000\n",
       "50%       35.000000      9.000000  34979.000000     75.080000      0.000000\n",
       "75%       41.000000     12.000000  38358.000000     86.617500      0.000000\n",
       "max       74.000000     23.000000  53977.000000    143.220000      1.000000"
      ]
     },
     "execution_count": 16,
     "metadata": {},
     "output_type": "execute_result"
    }
   ],
   "source": [
    "candidates.describe()"
   ]
  },
  {
   "cell_type": "code",
   "execution_count": 4,
   "metadata": {},
   "outputs": [
    {
     "data": {
      "text/html": [
       "<div>\n",
       "<style scoped>\n",
       "    .dataframe tbody tr th:only-of-type {\n",
       "        vertical-align: middle;\n",
       "    }\n",
       "\n",
       "    .dataframe tbody tr th {\n",
       "        vertical-align: top;\n",
       "    }\n",
       "\n",
       "    .dataframe thead th {\n",
       "        text-align: right;\n",
       "    }\n",
       "</style>\n",
       "<table border=\"1\" class=\"dataframe\">\n",
       "  <thead>\n",
       "    <tr style=\"text-align: right;\">\n",
       "      <th></th>\n",
       "      <th>date</th>\n",
       "      <th>cheveux</th>\n",
       "      <th>sexe</th>\n",
       "      <th>diplome</th>\n",
       "      <th>specialite</th>\n",
       "      <th>dispo</th>\n",
       "    </tr>\n",
       "  </thead>\n",
       "  <tbody>\n",
       "    <tr>\n",
       "      <th>count</th>\n",
       "      <td>19909</td>\n",
       "      <td>19897</td>\n",
       "      <td>19900</td>\n",
       "      <td>19890</td>\n",
       "      <td>19907</td>\n",
       "      <td>19894</td>\n",
       "    </tr>\n",
       "    <tr>\n",
       "      <th>unique</th>\n",
       "      <td>1826</td>\n",
       "      <td>4</td>\n",
       "      <td>2</td>\n",
       "      <td>4</td>\n",
       "      <td>4</td>\n",
       "      <td>2</td>\n",
       "    </tr>\n",
       "    <tr>\n",
       "      <th>top</th>\n",
       "      <td>2012-02-03</td>\n",
       "      <td>chatain</td>\n",
       "      <td>M</td>\n",
       "      <td>master</td>\n",
       "      <td>geologie</td>\n",
       "      <td>non</td>\n",
       "    </tr>\n",
       "    <tr>\n",
       "      <th>freq</th>\n",
       "      <td>24</td>\n",
       "      <td>6022</td>\n",
       "      <td>11889</td>\n",
       "      <td>7513</td>\n",
       "      <td>10028</td>\n",
       "      <td>11848</td>\n",
       "    </tr>\n",
       "  </tbody>\n",
       "</table>\n",
       "</div>"
      ],
      "text/plain": [
       "              date  cheveux   sexe diplome specialite  dispo\n",
       "count        19909    19897  19900   19890      19907  19894\n",
       "unique        1826        4      2       4          4      2\n",
       "top     2012-02-03  chatain      M  master   geologie    non\n",
       "freq            24     6022  11889    7513      10028  11848"
      ]
     },
     "execution_count": 4,
     "metadata": {},
     "output_type": "execute_result"
    }
   ],
   "source": [
    "candidates.select_dtypes(include=['object']).describe()"
   ]
  },
  {
   "cell_type": "markdown",
   "metadata": {},
   "source": [
    "Un premier coup d'oeil au jeu de donnée nous donne quelques informations sur la distribution de certaines variables. Par exemple:\n",
    "- Le salaire moyen des candidats est de 34k.\n",
    "- La spécialité la plus commune des candidats est la géologie.\n",
    "\n",
    "Nous observons également des incohérences et des valeurs manquante (environ 100/20000 par colonnes). Des valeurs négatives apparaissent pour les variables expérience et âge qui devrons être corrigées."
   ]
  },
  {
   "cell_type": "code",
   "execution_count": 3,
   "metadata": {},
   "outputs": [
    {
     "name": "stdout",
     "output_type": "stream",
     "text": [
      "date : 20000 valeurs\n",
      "cheveux : 20000 valeurs\n",
      "age : 20000 valeurs\n",
      "exp : 20000 valeurs\n",
      "salaire : 20000 valeurs\n",
      "sexe : 20000 valeurs\n",
      "diplome : 20000 valeurs\n",
      "specialite : 20000 valeurs\n",
      "note : 20000 valeurs\n",
      "dispo : 20000 valeurs\n",
      "embauche : 20000 valeurs\n"
     ]
    }
   ],
   "source": [
    "for column in candidates.columns:\n",
    "    most_common = candidates[column].value_counts().keys()[0]\n",
    "    candidates[column] = candidates[column].fillna(most_common)\n",
    "    print('{} : {} valeurs'.format(column, str(candidates[column].count())))\n",
    "\n",
    "candidates.loc[candidates['exp'] < 0, ('exp')] = candidates['exp'].mean()\n",
    "candidates.loc[candidates['age'] < 3, ('age')] = candidates['age'].mean()"
   ]
  },
  {
   "cell_type": "markdown",
   "metadata": {},
   "source": [
    "Les valeurs manquantes ont été remplacé par la valeurs la plus fréquente. Les valeurs incohérentes pour les variables âge et expérience ont été remplacées par la moyenne des valeurs."
   ]
  },
  {
   "cell_type": "markdown",
   "metadata": {},
   "source": [
    "## 1. Statistiques descriptives"
   ]
  },
  {
   "cell_type": "markdown",
   "metadata": {},
   "source": [
    "### 1. Description du jeu de donnée"
   ]
  },
  {
   "cell_type": "markdown",
   "metadata": {},
   "source": [
    "Dans cette section nous ferons de l'exploration de donnée afin de trouver des informations pertinentes. Cette étape de Data mining nous aidera pour notre phase de sélection des variables lors de l'entrainement de notre modèle. Etudions les deux population suivantes : les candidats embauchés et les candidats rejetés."
   ]
  },
  {
   "cell_type": "code",
   "execution_count": 4,
   "metadata": {},
   "outputs": [],
   "source": [
    "hired = candidates[candidates['embauche'] == 1]\n",
    "rejected = candidates[candidates['embauche'] == 0]"
   ]
  },
  {
   "cell_type": "markdown",
   "metadata": {},
   "source": [
    "__La date des candidatures__"
   ]
  },
  {
   "cell_type": "markdown",
   "metadata": {},
   "source": [
    "Visualisons le nombre de candidats recrutés au cours des années de 2010 à 2015."
   ]
  },
  {
   "cell_type": "code",
   "execution_count": 139,
   "metadata": {},
   "outputs": [
    {
     "data": {
      "image/png": "[encoded data removed]",
      "text/plain": [
       "<matplotlib.figure.Figure at 0x7f9ad0b055c0>"
      ]
     },
     "metadata": {},
     "output_type": "display_data"
    }
   ],
   "source": [
    "candidates['date'] = pd.to_datetime(candidates['date'], dayfirst=True)\n",
    "groupeby_date = candidates.loc[:, ('date', 'embauche')].groupby('date').sum()\n",
    "\n",
    "groupeby_date_mounth = groupeby_date.groupby(pd.Grouper(freq=\"M\")).sum()\n",
    "\n",
    "_ = groupeby_date_mounth.plot()\n",
    "_ = plt.ylabel('Nombre d\\'embauche')"
   ]
  },
  {
   "cell_type": "markdown",
   "metadata": {},
   "source": [
    "Cette courbe de présente pas de périodicité significative. La date ne sera pas une information importante pour la prédiction de l'embauche ou non d'un candidat donné."
   ]
  },
  {
   "cell_type": "markdown",
   "metadata": {},
   "source": [
    "__Les cheveux et la note__"
   ]
  },
  {
   "cell_type": "code",
   "execution_count": 114,
   "metadata": {},
   "outputs": [
    {
     "data": {
      "image/png": "[encoded data removed]",
      "text/plain": [
       "<matplotlib.figure.Figure at 0x7f249b23a860>"
      ]
     },
     "metadata": {},
     "output_type": "display_data"
    }
   ],
   "source": [
    "_ = sns.boxplot(x='cheveux', y='note', data=hired)"
   ]
  },
  {
   "cell_type": "markdown",
   "metadata": {},
   "source": [
    "Une découverte étonnante, les candidats embauchés peuvent être classés par leur couleurs de cheveux et leur note. Par exemple, en visualisant le graphique ci-dessus, nous voyons que les candidats blond embauchés ont des notes entre 65 et 105 environ au test avec 50% des candidats ayant entre 80 et 90.\n",
    "\n",
    "Les deux variables note et cheveux peuvent être utiles pour la prédictions d'une future embauche."
   ]
  },
  {
   "cell_type": "markdown",
   "metadata": {},
   "source": [
    "__Le salaire__"
   ]
  },
  {
   "cell_type": "code",
   "execution_count": 122,
   "metadata": {},
   "outputs": [
    {
     "data": {
      "image/png": "[encoded data removed]",
      "text/plain": [
       "<matplotlib.figure.Figure at 0x7f9ad004ad30>"
      ]
     },
     "metadata": {},
     "output_type": "display_data"
    }
   ],
   "source": [
    "_ = plt.hist([hired.salaire.sample(n=2000), rejected.salaire.sample(n=2000).values])\n",
    "_ = plt.legend(['Embauché', 'Rejeté'])\n",
    "_ = plt.ylabel('Count')\n",
    "_ = plt.xlabel('Salaires')"
   ]
  },
  {
   "cell_type": "markdown",
   "metadata": {},
   "source": [
    "La distribution des salaires demandés des deux populations (embauché et rejeté) est équivalente. Une moyenne entre 34k et 35k. Cette variable ne nous donne pas d'informations importante."
   ]
  },
  {
   "cell_type": "markdown",
   "metadata": {},
   "source": [
    "__Diplome et spécialité__"
   ]
  },
  {
   "cell_type": "code",
   "execution_count": 34,
   "metadata": {},
   "outputs": [
    {
     "data": {
      "image/png": "[encoded data removed]",
      "text/plain": [
       "<matplotlib.figure.Figure at 0x7fe38c707080>"
      ]
     },
     "metadata": {},
     "output_type": "display_data"
    }
   ],
   "source": [
    "fig, axs = plt.subplots(ncols=2, figsize=(14, 6))\n",
    "\n",
    "_ = sns.boxplot(x='diplome', y='salaire', hue='embauche', data=candidates, ax=axs[0])\n",
    "_ = sns.boxplot(x='specialite', y='salaire', hue='embauche', data=candidates, ax=axs[1])"
   ]
  },
  {
   "cell_type": "markdown",
   "metadata": {},
   "source": [
    "D'après les visualisations ci-dessus, la distribution en salaire des candidats embauchés et des candidats non embauchés est assez similaire. Une différence de $\\pm 1k$ en comparant les médiannes. \n",
    "\n",
    "Les salaires demandés varient beaucoup en fonction du diplome du candidat. Les candidats n'ayant que le bac ont tendance à demander des salaires plus élevés contraitement aux docteurs qui demandent des salaires plus faibles.\n",
    "\n",
    "Concernant la spécialité, les distributions sont quasi équivalentes. Les archéologues demandent un peu plus que les autres spécialités."
   ]
  },
  {
   "cell_type": "code",
   "execution_count": 35,
   "metadata": {},
   "outputs": [
    {
     "data": {
      "image/png": "[encoded data removed]",
      "text/plain": [
       "<matplotlib.figure.Figure at 0x7fe3885b2400>"
      ]
     },
     "metadata": {},
     "output_type": "display_data"
    }
   ],
   "source": [
    "fig, axs = plt.subplots(ncols=2, figsize=(14, 6))\n",
    "\n",
    "_ = sns.boxplot(x='diplome', y='note', hue='embauche', data=candidates, ax=axs[0])\n",
    "_ = sns.boxplot(x='specialite', y='note', hue='embauche', data=candidates, ax=axs[1])"
   ]
  },
  {
   "cell_type": "markdown",
   "metadata": {},
   "source": [
    "Visualisons à présent la distribution des notes en fonction des diplomes et des spécialités des deux populations (embauchés et non embauchés). La différence est assez significative pour les diplômes, surtout pour les candidats ayant un bac et un doctorat. Une remarque étonnante pour la majorité des diplomes et spécialités, ces candidats ont tendance à être plus recrutés avec des notes plus faibles (doctorat, archéologue, détective...).\n",
    "\n",
    "Ces deux variables note et diplome forment un couple intéressant pour la prédiction d'une future embauche."
   ]
  },
  {
   "cell_type": "markdown",
   "metadata": {},
   "source": [
    "### 2. Dépendance statistique entre les variables"
   ]
  },
  {
   "cell_type": "markdown",
   "metadata": {},
   "source": [
    "__Le nombre d'année d'expérience et la note__"
   ]
  },
  {
   "cell_type": "code",
   "execution_count": null,
   "metadata": {},
   "outputs": [],
   "source": [
    "def jitter(values, jitter=0.5):\n",
    "    n = len(values)\n",
    "    return np.random.uniform(-jitter, +jitter, n) + values"
   ]
  },
  {
   "cell_type": "code",
   "execution_count": 11,
   "metadata": {},
   "outputs": [],
   "source": [
    "notes = candidates['note']\n",
    "exp = candidates['exp']"
   ]
  },
  {
   "cell_type": "code",
   "execution_count": 18,
   "metadata": {},
   "outputs": [],
   "source": [
    "notes_jit = jitter(notes)\n",
    "exp_jit = jitter(exp)"
   ]
  },
  {
   "cell_type": "code",
   "execution_count": 22,
   "metadata": {},
   "outputs": [
    {
     "data": {
      "image/png": "[encoded data removed]",
      "text/plain": [
       "<matplotlib.figure.Figure at 0x7f249ad9b278>"
      ]
     },
     "metadata": {},
     "output_type": "display_data"
    }
   ],
   "source": [
    "_ = sns.jointplot(x=notes_jit, y=exp_jit, kind='reg')"
   ]
  },
  {
   "cell_type": "markdown",
   "metadata": {},
   "source": [
    "Aucune forme linéaire n'est observable via ce graphique. De plus le coefficient de corrélation pearsonr est égale à -0.01. 1 ou -1 signifie une corrélation parfaite, la majorité des corrélations dans la réalité ne sont pas parfaites et varient entre -0.8 et 0.8. Un coefficient de 0.5 signifie déjà une corrélation importante.\n",
    "\n",
    "Le coefficient très proche de 0 nous indique donc aucune corrélation linéaire."
   ]
  },
  {
   "cell_type": "markdown",
   "metadata": {},
   "source": [
    "__La spécialité et le sexe__"
   ]
  },
  {
   "cell_type": "code",
   "execution_count": 88,
   "metadata": {},
   "outputs": [
    {
     "data": {
      "image/png": "[encoded data removed]",
      "text/plain": [
       "<matplotlib.figure.Figure at 0x7f8507161dd8>"
      ]
     },
     "metadata": {},
     "output_type": "display_data"
    }
   ],
   "source": [
    "_ = sns.countplot(x='specialite', hue='sexe', data=candidates)"
   ]
  },
  {
   "cell_type": "markdown",
   "metadata": {},
   "source": [
    "Une visualisation de la répartition des spécialités chez les deux populations (hommes et femmes) nous montre que la majorité des hommes choisissent la géologie comme spécialisation. Chez les femmes, la répartition est équilibrée avec une minorité pour l'archéologie aussi bien chez les femmes que les hommes."
   ]
  },
  {
   "cell_type": "code",
   "execution_count": 79,
   "metadata": {},
   "outputs": [],
   "source": [
    "from sklearn.preprocessing import LabelEncoder\n",
    "\n",
    "lb_sexe = LabelEncoder()\n",
    "lb_specialite = LabelEncoder()\n",
    "df['sexe'] = lb_sexe.fit_transform(df['sexe'])\n",
    "df['specialite'] = lb_specialite.fit_transform(df['specialite'])"
   ]
  },
  {
   "cell_type": "code",
   "execution_count": 86,
   "metadata": {},
   "outputs": [
    {
     "data": {
      "text/html": [
       "<div>\n",
       "<style scoped>\n",
       "    .dataframe tbody tr th:only-of-type {\n",
       "        vertical-align: middle;\n",
       "    }\n",
       "\n",
       "    .dataframe tbody tr th {\n",
       "        vertical-align: top;\n",
       "    }\n",
       "\n",
       "    .dataframe thead th {\n",
       "        text-align: right;\n",
       "    }\n",
       "</style>\n",
       "<table border=\"1\" class=\"dataframe\">\n",
       "  <thead>\n",
       "    <tr style=\"text-align: right;\">\n",
       "      <th></th>\n",
       "      <th>sexe</th>\n",
       "      <th>specialite</th>\n",
       "    </tr>\n",
       "  </thead>\n",
       "  <tbody>\n",
       "    <tr>\n",
       "      <th>sexe</th>\n",
       "      <td>1.000000</td>\n",
       "      <td>0.365726</td>\n",
       "    </tr>\n",
       "    <tr>\n",
       "      <th>specialite</th>\n",
       "      <td>0.365726</td>\n",
       "      <td>1.000000</td>\n",
       "    </tr>\n",
       "  </tbody>\n",
       "</table>\n",
       "</div>"
      ],
      "text/plain": [
       "                sexe  specialite\n",
       "sexe        1.000000    0.365726\n",
       "specialite  0.365726    1.000000"
      ]
     },
     "execution_count": 86,
     "metadata": {},
     "output_type": "execute_result"
    }
   ],
   "source": [
    "df.corr(method='pearson')"
   ]
  },
  {
   "cell_type": "markdown",
   "metadata": {},
   "source": [
    "Le calcul du coefficient de Pearson renforce cette idée d'une corrélation existante, $\\rho = 0.37$"
   ]
  },
  {
   "cell_type": "markdown",
   "metadata": {},
   "source": [
    "__La couleur de cheveux et le salaire demandé__"
   ]
  },
  {
   "cell_type": "code",
   "execution_count": 238,
   "metadata": {},
   "outputs": [
    {
     "data": {
      "image/png": "[encoded data removed]",
      "text/plain": [
       "<matplotlib.figure.Figure at 0x7f8504914a20>"
      ]
     },
     "metadata": {},
     "output_type": "display_data"
    }
   ],
   "source": [
    "_ = sns.boxplot(x='cheveux', y='salaire', data=candidates)"
   ]
  },
  {
   "cell_type": "code",
   "execution_count": 138,
   "metadata": {},
   "outputs": [],
   "source": [
    "from sklearn.preprocessing import LabelEncoder\n",
    "\n",
    "df = candidates.copy()\n",
    "lb_cheveux = LabelEncoder()\n",
    "df['cheveux'] = lb_cheveux.fit_transform(df['cheveux'])"
   ]
  },
  {
   "cell_type": "code",
   "execution_count": 119,
   "metadata": {},
   "outputs": [
    {
     "data": {
      "text/html": [
       "<div>\n",
       "<style scoped>\n",
       "    .dataframe tbody tr th:only-of-type {\n",
       "        vertical-align: middle;\n",
       "    }\n",
       "\n",
       "    .dataframe tbody tr th {\n",
       "        vertical-align: top;\n",
       "    }\n",
       "\n",
       "    .dataframe thead th {\n",
       "        text-align: right;\n",
       "    }\n",
       "</style>\n",
       "<table border=\"1\" class=\"dataframe\">\n",
       "  <thead>\n",
       "    <tr style=\"text-align: right;\">\n",
       "      <th></th>\n",
       "      <th>cheveux</th>\n",
       "      <th>salaire</th>\n",
       "    </tr>\n",
       "  </thead>\n",
       "  <tbody>\n",
       "    <tr>\n",
       "      <th>cheveux</th>\n",
       "      <td>1.000000</td>\n",
       "      <td>-0.011653</td>\n",
       "    </tr>\n",
       "    <tr>\n",
       "      <th>salaire</th>\n",
       "      <td>-0.011653</td>\n",
       "      <td>1.000000</td>\n",
       "    </tr>\n",
       "  </tbody>\n",
       "</table>\n",
       "</div>"
      ],
      "text/plain": [
       "          cheveux   salaire\n",
       "cheveux  1.000000 -0.011653\n",
       "salaire -0.011653  1.000000"
      ]
     },
     "execution_count": 119,
     "metadata": {},
     "output_type": "execute_result"
    }
   ],
   "source": [
    "df.loc[:, ('cheveux', 'salaire')].corr(method='pearson')"
   ]
  },
  {
   "cell_type": "markdown",
   "metadata": {},
   "source": [
    "Peu importe la couleur de cheveux des candidats, le répartition des salaires demandé est la même. De plus le coefficient de correspondance proche de 0 confirme qu'il n'y a pas de corrélation apparente entre ces deux attributs."
   ]
  },
  {
   "cell_type": "markdown",
   "metadata": {},
   "source": [
    "### 3. Distribution en age"
   ]
  },
  {
   "cell_type": "markdown",
   "metadata": {},
   "source": [
    "Calculer la CDF permet de comparer les distributions en age des deux populations (Homme et Femme). Une \"cumulative distribution function\" est une fonction qui relie une valeur à son \"percentile rank\". Pour une valeur donnée $x$, nous calculons la fraction correspondant au nombre de valeurs inférieurs ou égales à $x$.\n",
    "\n",
    "Nous allons calculer Cdf(age) pour chaque age donnée des deux populations. Voici les 10 premières valeurs :"
   ]
  },
  {
   "cell_type": "code",
   "execution_count": 37,
   "metadata": {},
   "outputs": [],
   "source": [
    "def get_cdf(sample, x):\n",
    "    count = 0.0\n",
    "    for value in sample:\n",
    "        if value <= x:\n",
    "            count += 1\n",
    "    prob = count / len(sample)\n",
    "    return prob"
   ]
  },
  {
   "cell_type": "code",
   "execution_count": 38,
   "metadata": {},
   "outputs": [],
   "source": [
    "women = candidates[candidates['sexe'] == 'F']\n",
    "men = candidates[candidates['sexe'] == 'M']\n",
    "\n",
    "ages_men = men['age']\n",
    "ages_women = women['age']"
   ]
  },
  {
   "cell_type": "code",
   "execution_count": 40,
   "metadata": {},
   "outputs": [
    {
     "name": "stdout",
     "output_type": "stream",
     "text": [
      "('Homme : [0.0004170489615480857, 0.0004170489615480857, '\n",
      " '0.0004170489615480857, 0.0004170489615480857, 0.0004170489615480857, '\n",
      " '0.00058386854616732, 0.00058386854616732, 0.001084327300025023, '\n",
      " '0.001084327300025023, 0.001084327300025023]')\n",
      "('Femme : [0.00012482836100362001, 0.00024965672200724003, '\n",
      " '0.0004993134440144801, 0.0004993134440144801, 0.0009986268880289601, '\n",
      " '0.0009986268880289601, 0.0009986268880289601, 0.0009986268880289601, '\n",
      " '0.0012482836100362001, 0.0012482836100362001]')\n"
     ]
    }
   ],
   "source": [
    "ages_men_cdf = [get_cdf(ages_men, x) for x in ages_men.sort_values()]\n",
    "ages_women_cdf = [get_cdf(ages_women, x) for x in ages_women.sort_values()]\n",
    "\n",
    "pprint('Homme : {}'.format(ages_men_cdf[:10]))\n",
    "pprint('Femme : {}'.format(ages_women_cdf[:10]))"
   ]
  },
  {
   "cell_type": "markdown",
   "metadata": {},
   "source": [
    "Nous pouvons à présent afficher ces deux séquences sur un graphique afin de visualiser la forme de la courbe obtenue."
   ]
  },
  {
   "cell_type": "code",
   "execution_count": 108,
   "metadata": {},
   "outputs": [
    {
     "data": {
      "image/png": "[encoded data removed]",
      "text/plain": [
       "<matplotlib.figure.Figure at 0x7f24980e3d68>"
      ]
     },
     "metadata": {},
     "output_type": "display_data"
    }
   ],
   "source": [
    "_= plt.plot(ages_men.sort_values(), ages_men_cdf, ages_women.sort_values(), ages_women_cdf)\n",
    "_ = plt.ylabel('Cdf')\n",
    "_ = plt.xlabel('Ages')\n",
    "_ = plt.legend(['M', 'F'])"
   ]
  },
  {
   "cell_type": "markdown",
   "metadata": {},
   "source": [
    "Les deux courbes représentant la distribution en âge des deux populations se superposent, ainsi nous pouvons affirmer que ces deux distributions sont identiques."
   ]
  },
  {
   "cell_type": "markdown",
   "metadata": {},
   "source": [
    "## 2. Machine learning"
   ]
  },
  {
   "cell_type": "markdown",
   "metadata": {},
   "source": [
    "### 1. Choix du modèle"
   ]
  },
  {
   "cell_type": "markdown",
   "metadata": {},
   "source": [
    "Le Random Forest est un algorithme de machine learning basé sur les arbres de décision. Utilisé pour de l'apprentissage supervisé, il performe aussi bien pour de la régression ou de la classification. Dans notre cas, nous devons prédire une variable catégorique : \n",
    "> \"Est-ce que le candidat sera embauché ?\" 1 ou 0. \n",
    "\n",
    "C'est donc un problème de __Classification__."
   ]
  },
  {
   "cell_type": "markdown",
   "metadata": {},
   "source": [
    "Dans un premier temps, procédons à une sélection des variables pour notre modèle. Les colonnes contenant des valeurs catégoriques doivent être converties pour pouvoir être utilisée convenablement (ex: \"dispo\" -> oui ou non). Utilisons la méthode du __One-Hot-Encoding__ grâce à la fonction \"get_dummies\" de Pandas qui convertie ces colonnes en plusieurs sous colonnes comprenant les valeurs 0/1."
   ]
  },
  {
   "cell_type": "code",
   "execution_count": 5,
   "metadata": {},
   "outputs": [
    {
     "data": {
      "text/html": [
       "<div>\n",
       "<style scoped>\n",
       "    .dataframe tbody tr th:only-of-type {\n",
       "        vertical-align: middle;\n",
       "    }\n",
       "\n",
       "    .dataframe tbody tr th {\n",
       "        vertical-align: top;\n",
       "    }\n",
       "\n",
       "    .dataframe thead th {\n",
       "        text-align: right;\n",
       "    }\n",
       "</style>\n",
       "<table border=\"1\" class=\"dataframe\">\n",
       "  <thead>\n",
       "    <tr style=\"text-align: right;\">\n",
       "      <th></th>\n",
       "      <th>exp</th>\n",
       "      <th>salaire</th>\n",
       "      <th>note</th>\n",
       "      <th>embauche</th>\n",
       "      <th>sexe_F</th>\n",
       "      <th>sexe_M</th>\n",
       "      <th>specialite_archeologie</th>\n",
       "      <th>specialite_detective</th>\n",
       "      <th>specialite_forage</th>\n",
       "      <th>specialite_geologie</th>\n",
       "      <th>cheveux_blond</th>\n",
       "      <th>cheveux_brun</th>\n",
       "      <th>cheveux_chatain</th>\n",
       "      <th>cheveux_roux</th>\n",
       "      <th>dispo_non</th>\n",
       "      <th>dispo_oui</th>\n",
       "      <th>diplome_bac</th>\n",
       "      <th>diplome_doctorat</th>\n",
       "      <th>diplome_licence</th>\n",
       "      <th>diplome_master</th>\n",
       "    </tr>\n",
       "  </thead>\n",
       "  <tbody>\n",
       "    <tr>\n",
       "      <th>0</th>\n",
       "      <td>9.0</td>\n",
       "      <td>26803.0</td>\n",
       "      <td>97.08</td>\n",
       "      <td>0</td>\n",
       "      <td>1</td>\n",
       "      <td>0</td>\n",
       "      <td>0</td>\n",
       "      <td>0</td>\n",
       "      <td>0</td>\n",
       "      <td>1</td>\n",
       "      <td>0</td>\n",
       "      <td>0</td>\n",
       "      <td>0</td>\n",
       "      <td>1</td>\n",
       "      <td>1</td>\n",
       "      <td>0</td>\n",
       "      <td>0</td>\n",
       "      <td>0</td>\n",
       "      <td>1</td>\n",
       "      <td>0</td>\n",
       "    </tr>\n",
       "    <tr>\n",
       "      <th>1</th>\n",
       "      <td>13.0</td>\n",
       "      <td>38166.0</td>\n",
       "      <td>63.86</td>\n",
       "      <td>0</td>\n",
       "      <td>0</td>\n",
       "      <td>1</td>\n",
       "      <td>0</td>\n",
       "      <td>0</td>\n",
       "      <td>1</td>\n",
       "      <td>0</td>\n",
       "      <td>1</td>\n",
       "      <td>0</td>\n",
       "      <td>0</td>\n",
       "      <td>0</td>\n",
       "      <td>1</td>\n",
       "      <td>0</td>\n",
       "      <td>0</td>\n",
       "      <td>0</td>\n",
       "      <td>1</td>\n",
       "      <td>0</td>\n",
       "    </tr>\n",
       "    <tr>\n",
       "      <th>2</th>\n",
       "      <td>13.0</td>\n",
       "      <td>35207.0</td>\n",
       "      <td>78.50</td>\n",
       "      <td>0</td>\n",
       "      <td>0</td>\n",
       "      <td>1</td>\n",
       "      <td>0</td>\n",
       "      <td>0</td>\n",
       "      <td>0</td>\n",
       "      <td>1</td>\n",
       "      <td>1</td>\n",
       "      <td>0</td>\n",
       "      <td>0</td>\n",
       "      <td>0</td>\n",
       "      <td>1</td>\n",
       "      <td>0</td>\n",
       "      <td>0</td>\n",
       "      <td>0</td>\n",
       "      <td>1</td>\n",
       "      <td>0</td>\n",
       "    </tr>\n",
       "    <tr>\n",
       "      <th>3</th>\n",
       "      <td>12.0</td>\n",
       "      <td>32442.0</td>\n",
       "      <td>45.09</td>\n",
       "      <td>0</td>\n",
       "      <td>0</td>\n",
       "      <td>1</td>\n",
       "      <td>0</td>\n",
       "      <td>0</td>\n",
       "      <td>0</td>\n",
       "      <td>1</td>\n",
       "      <td>0</td>\n",
       "      <td>1</td>\n",
       "      <td>0</td>\n",
       "      <td>0</td>\n",
       "      <td>1</td>\n",
       "      <td>0</td>\n",
       "      <td>0</td>\n",
       "      <td>0</td>\n",
       "      <td>1</td>\n",
       "      <td>0</td>\n",
       "    </tr>\n",
       "    <tr>\n",
       "      <th>4</th>\n",
       "      <td>6.0</td>\n",
       "      <td>28533.0</td>\n",
       "      <td>81.91</td>\n",
       "      <td>0</td>\n",
       "      <td>1</td>\n",
       "      <td>0</td>\n",
       "      <td>0</td>\n",
       "      <td>1</td>\n",
       "      <td>0</td>\n",
       "      <td>0</td>\n",
       "      <td>0</td>\n",
       "      <td>0</td>\n",
       "      <td>0</td>\n",
       "      <td>1</td>\n",
       "      <td>1</td>\n",
       "      <td>0</td>\n",
       "      <td>0</td>\n",
       "      <td>0</td>\n",
       "      <td>1</td>\n",
       "      <td>0</td>\n",
       "    </tr>\n",
       "  </tbody>\n",
       "</table>\n",
       "</div>"
      ],
      "text/plain": [
       "    exp  salaire   note  embauche  sexe_F  sexe_M  specialite_archeologie  \\\n",
       "0   9.0  26803.0  97.08         0       1       0                       0   \n",
       "1  13.0  38166.0  63.86         0       0       1                       0   \n",
       "2  13.0  35207.0  78.50         0       0       1                       0   \n",
       "3  12.0  32442.0  45.09         0       0       1                       0   \n",
       "4   6.0  28533.0  81.91         0       1       0                       0   \n",
       "\n",
       "   specialite_detective  specialite_forage  specialite_geologie  \\\n",
       "0                     0                  0                    1   \n",
       "1                     0                  1                    0   \n",
       "2                     0                  0                    1   \n",
       "3                     0                  0                    1   \n",
       "4                     1                  0                    0   \n",
       "\n",
       "   cheveux_blond  cheveux_brun  cheveux_chatain  cheveux_roux  dispo_non  \\\n",
       "0              0             0                0             1          1   \n",
       "1              1             0                0             0          1   \n",
       "2              1             0                0             0          1   \n",
       "3              0             1                0             0          1   \n",
       "4              0             0                0             1          1   \n",
       "\n",
       "   dispo_oui  diplome_bac  diplome_doctorat  diplome_licence  diplome_master  \n",
       "0          0            0                 0                1               0  \n",
       "1          0            0                 0                1               0  \n",
       "2          0            0                 0                1               0  \n",
       "3          0            0                 0                1               0  \n",
       "4          0            0                 0                1               0  "
      ]
     },
     "execution_count": 5,
     "metadata": {},
     "output_type": "execute_result"
    }
   ],
   "source": [
    "# Create a copy of original candidates dataframe\n",
    "data = candidates.copy()\n",
    "\n",
    "# Select categorical columns\n",
    "dummy_columns = ['sexe', 'specialite', 'cheveux', 'dispo', 'diplome']\n",
    "for each in dummy_columns:\n",
    "    dummies = pd.get_dummies(data[each], prefix=each, drop_first=False)\n",
    "    data = pd.concat([data, dummies], axis=1)\n",
    "\n",
    "# drop old and useless columns\n",
    "columns_to_drop = ['date', 'cheveux', 'sexe', 'diplome', 'specialite', 'dispo', 'age']\n",
    "data = data.drop(columns_to_drop, axis=1).copy()\n",
    "data.head()"
   ]
  },
  {
   "cell_type": "markdown",
   "metadata": {},
   "source": [
    "### 2. Critères de performance"
   ]
  },
  {
   "cell_type": "markdown",
   "metadata": {},
   "source": [
    "Dans un deuxième temps, nous allons diviser notre jeu de donné:\n",
    "\n",
    "- Dataset d'entrainement (70%)\n",
    "- Dataset de test (30%)\n",
    "\n",
    "Ainsi nous pourrons évaluer si notre modèle overfit le jeu d'entrainement. En le testant sur des données qu'il n'a jamais apperçu, nous saurons si il a vraiment trouvé un pattern dans le jeu d'entrainement ou si il a seulement appris par coeur les données reçues."
   ]
  },
  {
   "cell_type": "code",
   "execution_count": 6,
   "metadata": {},
   "outputs": [],
   "source": [
    "from sklearn.model_selection import train_test_split\n",
    "\n",
    "target_columns = ['embauche']\n",
    "features, target = data.drop(target_columns, axis=1), data[target_columns]\n",
    "train_features, test_features, train_target, test_target = train_test_split(\n",
    "        features, target, test_size=0.30)"
   ]
  },
  {
   "cell_type": "markdown",
   "metadata": {},
   "source": [
    "Nous avons à présent notre modèle, nos jeu de donnée d'entrainement et de test. Le Random Forest est basé sur les arbres de décision. Il produit plusieurs arbres afin de classifier un élément basé sur ses attributs. Ces arbres de décision peuvent être paramétrés pour obtenir des résultats différents. Nous allons modifier les principaux paramètres:\n",
    "\n",
    "- n_estimators : Nombre d'arbres dans la forêt\n",
    "- max_features : Nombre de variables à considérer à chaque division\n",
    "- max_depth : Nombre maximum de niveau pour chaque arbre\n",
    "- min_samples_split : Nombre minimum de valeurs requis pour diviser un noeud\n",
    "- min_samples_leaf : Nombre minimum de valeurs requis pour chaque leaf node\n",
    "- bootstrap : Méthode de sélection de valeurs pour l'entrainement des noeuds\n",
    "\n",
    "Trouver le bon paramétrage est souvent le résultat d'une étude longue et fastidieuse. Une approche plus rapide basé sur des tests aléatoires permet un paramétrage correct et rapide du modèle : __Random Search Cross Validation__\n",
    "\n",
    "Nous définissons des intervalles de valeurs pour les différentes paramètes"
   ]
  },
  {
   "cell_type": "code",
   "execution_count": 7,
   "metadata": {},
   "outputs": [
    {
     "name": "stdout",
     "output_type": "stream",
     "text": [
      "{'bootstrap': [True, False],\n",
      " 'max_depth': [10, 20, 30, 40, 50, 60, 70, 80, 90, 100, 110, None],\n",
      " 'max_features': ['auto', 'sqrt'],\n",
      " 'min_samples_leaf': [1, 2, 4],\n",
      " 'min_samples_split': [2, 5, 10],\n",
      " 'n_estimators': [10, 31, 52, 73, 94, 115, 136, 157, 178, 200]}\n"
     ]
    }
   ],
   "source": [
    "from pprint import pprint\n",
    "\n",
    "# Number of trees in random forest\n",
    "n_estimators = [int(x) for x in np.linspace(start = 10, stop = 200, num = 10)]\n",
    "# Number of features to consider at every split\n",
    "max_features = ['auto', 'sqrt']\n",
    "# Maximum number of levels in tree\n",
    "max_depth = [int(x) for x in np.linspace(10, 110, num = 11)]\n",
    "max_depth.append(None)\n",
    "# Minimum number of samples required to split a node\n",
    "min_samples_split = [2, 5, 10]\n",
    "# Minimum number of samples required at each leaf node\n",
    "min_samples_leaf = [1, 2, 4]\n",
    "# Method of selecting samples for training each tree\n",
    "bootstrap = [True, False]\n",
    "\n",
    "# Create the random grid\n",
    "random_grid = {'n_estimators': n_estimators,\n",
    "               'max_features': max_features,\n",
    "               'max_depth': max_depth,\n",
    "               'min_samples_split': min_samples_split,\n",
    "               'min_samples_leaf': min_samples_leaf,\n",
    "               'bootstrap': bootstrap}\n",
    "\n",
    "pprint(random_grid)"
   ]
  },
  {
   "cell_type": "markdown",
   "metadata": {},
   "source": [
    "En utilisant une instance RandomizedSearchCV de la librairie sklearn, nous allons à chaque itération choisir une combinaison différente parmis celles fournies précédemment. A l'issue de ce traitement, le choix de la meilleure combinaison sera fait en utilisant l'attribut rf_random.best\\_params_ ."
   ]
  },
  {
   "cell_type": "code",
   "execution_count": 9,
   "metadata": {},
   "outputs": [],
   "source": [
    "from sklearn.model_selection import RandomizedSearchCV\n",
    "from sklearn.ensemble import RandomForestClassifier\n",
    "\n",
    "rf = RandomForestClassifier()\n",
    "rf_random = RandomizedSearchCV(estimator=rf, refit=True, param_distributions=random_grid, \n",
    "                               n_iter=100, cv=3, verbose=0, random_state=42, n_jobs=-1)"
   ]
  },
  {
   "cell_type": "code",
   "execution_count": 80,
   "metadata": {
    "scrolled": true
   },
   "outputs": [
    {
     "data": {
      "text/plain": [
       "RandomizedSearchCV(cv=3, error_score='raise',\n",
       "          estimator=RandomForestClassifier(bootstrap=True, class_weight=None, criterion='gini',\n",
       "            max_depth=None, max_features='auto', max_leaf_nodes=None,\n",
       "            min_impurity_decrease=0.0, min_impurity_split=None,\n",
       "            min_samples_leaf=1, min_samples_split=2,\n",
       "            min_weight_fraction_leaf=0.0, n_estimators=10, n_jobs=1,\n",
       "            oob_score=False, random_state=None, verbose=0,\n",
       "            warm_start=False),\n",
       "          fit_params=None, iid=True, n_iter=100, n_jobs=1,\n",
       "          param_distributions={'bootstrap': [True, False], 'n_estimators': [10, 31, 52, 73, 94, 115, 136, 157, 178, 200], 'max_depth': [10, 20, 30, 40, 50, 60, 70, 80, 90, 100, 110, None], 'min_samples_leaf': [1, 2, 4], 'min_samples_split': [2, 5, 10], 'max_features': ['auto', 'sqrt']},\n",
       "          pre_dispatch='2*n_jobs', random_state=42, refit=True,\n",
       "          return_train_score='warn', scoring=None, verbose=0)"
      ]
     },
     "execution_count": 80,
     "metadata": {},
     "output_type": "execute_result"
    }
   ],
   "source": [
    "# Compute our random search to get best parameters\n",
    "rf_random.fit(train_features[:].values, train_target['embauche'].values)"
   ]
  },
  {
   "cell_type": "code",
   "execution_count": 87,
   "metadata": {},
   "outputs": [
    {
     "name": "stdout",
     "output_type": "stream",
     "text": [
      "Meilleurs paramètres:\n"
     ]
    },
    {
     "data": {
      "text/plain": [
       "{'bootstrap': False,\n",
       " 'max_depth': 80,\n",
       " 'max_features': 'sqrt',\n",
       " 'min_samples_leaf': 4,\n",
       " 'min_samples_split': 2,\n",
       " 'n_estimators': 136}"
      ]
     },
     "execution_count": 87,
     "metadata": {},
     "output_type": "execute_result"
    }
   ],
   "source": [
    "print('Meilleurs paramètres:')\n",
    "rf_random.best_params_"
   ]
  },
  {
   "cell_type": "markdown",
   "metadata": {},
   "source": [
    "Nous pouvons maintenant créer notre modèle en utilisant les paramètres obtenus à l'aide du 'Random Search Cross Validation'"
   ]
  },
  {
   "cell_type": "code",
   "execution_count": 32,
   "metadata": {},
   "outputs": [
    {
     "name": "stdout",
     "output_type": "stream",
     "text": [
      "(\"Paramètre de notre model : {'warm_start': False, 'class_weight': None, \"\n",
      " \"'max_depth': 80, 'min_weight_fraction_leaf': 0.0, 'oob_score': False, \"\n",
      " \"'random_state': None, 'criterion': 'gini', 'n_jobs': 1, 'bootstrap': False, \"\n",
      " \"'min_impurity_decrease': 0.0, 'verbose': 0, 'min_samples_split': 2, \"\n",
      " \"'min_samples_leaf': 4, 'max_leaf_nodes': None, 'min_impurity_split': None, \"\n",
      " \"'n_estimators': 136, 'max_features': 'sqrt'}\")\n"
     ]
    }
   ],
   "source": [
    "# Init our model with parameters found previously\n",
    "rf = RandomForestClassifier(max_features='sqrt', n_estimators=136, \n",
    "                            max_depth=80, min_samples_split=2,\n",
    "                            min_samples_leaf=4, bootstrap=False)\n",
    "pprint('Paramètre de notre model : {}'.format(rf.get_params()))"
   ]
  },
  {
   "cell_type": "markdown",
   "metadata": {},
   "source": [
    "Après entrainement du modèle, nous pouvons le tester sur notre jeu de donnée de test. Voici les résultats ci-dessous:"
   ]
  },
  {
   "cell_type": "code",
   "execution_count": 69,
   "metadata": {},
   "outputs": [
    {
     "name": "stdout",
     "output_type": "stream",
     "text": [
      "Fit... and Predict...\n",
      "==> predict: \n",
      "       prediction  reality get_it\n",
      "13272           0        0    yes\n",
      "5890            0        0    yes\n",
      "16685           0        0    yes\n",
      "18541           0        0    yes\n",
      "7053            0        0    yes\n",
      "2758            0        0    yes\n",
      "3967            0        0    yes\n",
      "8306            0        0    yes\n",
      "15092           0        0    yes\n",
      "17477           0        1    nop\n",
      "11436           0        0    yes\n",
      "6070            0        1    nop\n",
      "16488           0        0    yes\n",
      "12501           1        1    yes\n",
      "4741            0        0    yes\n",
      "5106            0        0    yes\n",
      "19791           0        0    yes\n",
      "15593           0        0    yes\n",
      "13731           1        1    yes\n",
      "3349            0        0    yes\n",
      "  == get_it:\n",
      "yes    5552\n",
      "nop     448\n",
      "Name: get_it, dtype: int64\n",
      "Score on train dataset : 0.957\n",
      "Score on test dataset : 0.925\n",
      "\n"
     ]
    }
   ],
   "source": [
    "print('Fit... and Predict...')\n",
    "prediction = rf.fit(train_features[:].values, train_target['embauche'].values).predict(test_features[:].values)\n",
    "print('==> predict: ')\n",
    "reality = test_target[:].values\n",
    "result = pd.DataFrame({'prediction': prediction, 'reality': test_target['embauche']})\n",
    "result['get_it'] = 'nop'\n",
    "result.loc[result.prediction == result.reality, 'get_it'] = 'yes'\n",
    "print(result[30:50])\n",
    "print('  == get_it:')\n",
    "print(result.get_it.value_counts())\n",
    "# Print score for test and train features\n",
    "print('Score on train dataset : {0:.3f}\\n'\n",
    "      'Score on test dataset : {1:.3f}\\n'.format(rf.score(train_features, train_target),\n",
    "                                            rf.score(test_features, test_target)))"
   ]
  },
  {
   "cell_type": "markdown",
   "metadata": {},
   "source": [
    "### 3. Améliorations"
   ]
  },
  {
   "cell_type": "markdown",
   "metadata": {},
   "source": [
    "Notre Random Forest peut être améliorer en :\n",
    "\n",
    "- Sélectionnant de manière plus précise les variables.\n",
    "- Utilisant une méthode moins aléatoire de paramétrage du modèle.\n",
    "- Ajoutant des données complémentaires aux données déjà fournies (motivation des candidats...)."
   ]
  }
 ],
 "metadata": {
  "kernelspec": {
   "display_name": "Python 3",
   "language": "python",
   "name": "python3"
  },
  "language_info": {
   "codemirror_mode": {
    "name": "ipython",
    "version": 3
   },
   "file_extension": ".py",
   "mimetype": "text/x-python",
   "name": "python",
   "nbconvert_exporter": "python",
   "pygments_lexer": "ipython3",
   "version": "3.5.4"
  }
 },
 "nbformat": 4,
 "nbformat_minor": 2
}
